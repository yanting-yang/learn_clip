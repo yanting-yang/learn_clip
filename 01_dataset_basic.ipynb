{
 "cells": [
  {
   "cell_type": "code",
   "execution_count": 1,
   "metadata": {},
   "outputs": [
    {
     "name": "stderr",
     "output_type": "stream",
     "text": [
      "/opt/conda/lib/python3.11/site-packages/tqdm/auto.py:21: TqdmWarning: IProgress not found. Please update jupyter and ipywidgets. See https://ipywidgets.readthedocs.io/en/stable/user_install.html\n",
      "  from .autonotebook import tqdm as notebook_tqdm\n"
     ]
    }
   ],
   "source": [
    "import datasets"
   ]
  },
  {
   "cell_type": "code",
   "execution_count": 3,
   "metadata": {},
   "outputs": [
    {
     "name": "stderr",
     "output_type": "stream",
     "text": [
      "Repo card metadata block was not found. Setting CardData to empty.\n",
      "Generating train split: 80 examples [00:00, 10040.53 examples/s]\n",
      "Generating validation split: 80 examples [00:00, 12820.74 examples/s]\n",
      "Generating test split: 16 examples [00:00, 3853.07 examples/s]\n"
     ]
    }
   ],
   "source": [
    "ds = datasets.load_dataset(\n",
    "    'ydshieh/coco_dataset_script',\n",
    "    '2017',\n",
    "    data_dir='./dummy_data/',\n",
    "    trust_remote_code=True\n",
    ")"
   ]
  },
  {
   "cell_type": "code",
   "execution_count": 6,
   "metadata": {},
   "outputs": [
    {
     "data": {
      "text/plain": [
       "{'image_id': 74,\n",
       " 'caption_id': 145996,\n",
       " 'caption': 'A picture of a dog laying on the ground.',\n",
       " 'height': 426,\n",
       " 'width': 640,\n",
       " 'file_name': '000000000074.jpg',\n",
       " 'coco_url': 'http://images.cocodataset.org/train2017/000000000074.jpg',\n",
       " 'image_path': '/root/.cache/huggingface/datasets/downloads/extracted/8a6084e246e5c8544ac3d9e26645e29259bcacfd0dad7e26d4874a3e0bbdcc06/train2017/000000000074.jpg'}"
      ]
     },
     "execution_count": 6,
     "metadata": {},
     "output_type": "execute_result"
    }
   ],
   "source": [
    "ds['train'][0]"
   ]
  }
 ],
 "metadata": {
  "kernelspec": {
   "display_name": "base",
   "language": "python",
   "name": "python3"
  },
  "language_info": {
   "codemirror_mode": {
    "name": "ipython",
    "version": 3
   },
   "file_extension": ".py",
   "mimetype": "text/x-python",
   "name": "python",
   "nbconvert_exporter": "python",
   "pygments_lexer": "ipython3",
   "version": "3.11.11"
  }
 },
 "nbformat": 4,
 "nbformat_minor": 2
}
